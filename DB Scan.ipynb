{
    "nbformat_minor": 1, 
    "cells": [
        {
            "execution_count": null, 
            "cell_type": "code", 
            "metadata": {}, 
            "outputs": [
                {
                    "output_type": "stream", 
                    "name": "stdout", 
                    "text": "Solving environment: / "
                }
            ], 
            "source": "!conda install -c conda-forge  basemap==1.2.0  matplotlib==2.2.2  -y"
        }, 
        {
            "execution_count": null, 
            "cell_type": "code", 
            "metadata": {}, 
            "outputs": [], 
            "source": "import numpy as np \nfrom sklearn.cluster import DBSCAN \nfrom sklearn.datasets.samples_generator import make_blobs \nfrom sklearn.preprocessing import StandardScaler \nimport matplotlib.pyplot as plt \n%matplotlib inline"
        }, 
        {
            "execution_count": null, 
            "cell_type": "code", 
            "metadata": {}, 
            "outputs": [], 
            "source": "def createDataPoints(centroidLocation, numSamples, clusterDeviation):\n    # Create random data and store in feature matrix X and response vector y.\n    X, y = make_blobs(n_samples=numSamples, centers=centroidLocation, \n                                cluster_std=clusterDeviation)\n    \n    # Standardize features by removing the mean and scaling to unit variance\n    X = StandardScaler().fit_transform(X)\n    return X, y"
        }, 
        {
            "execution_count": null, 
            "cell_type": "code", 
            "metadata": {}, 
            "outputs": [], 
            "source": "X, y = createDataPoints([[4,3], [2,-1], [-1,4]] , 1500, 0.5)"
        }, 
        {
            "execution_count": null, 
            "cell_type": "code", 
            "metadata": {}, 
            "outputs": [], 
            "source": "epsilon = 0.3\nminimumSamples = 7\ndb = DBSCAN(eps=epsilon, min_samples=minimumSamples).fit(X)\nlabels = db.labels_\nlabels"
        }, 
        {
            "execution_count": null, 
            "cell_type": "code", 
            "metadata": {}, 
            "outputs": [], 
            "source": "# First, create an array of booleans using the labels from db.\ncore_samples_mask = np.zeros_like(db.labels_, dtype=bool)\ncore_samples_mask[db.core_sample_indices_] = True\ncore_samples_mask"
        }, 
        {
            "execution_count": null, 
            "cell_type": "code", 
            "metadata": {}, 
            "outputs": [], 
            "source": "# Number of clusters in labels, ignoring noise if present.\nn_clusters_ = len(set(labels)) - (1 if -1 in labels else 0)\nn_clusters_"
        }, 
        {
            "execution_count": null, 
            "cell_type": "code", 
            "metadata": {}, 
            "outputs": [], 
            "source": "# Remove repetition in labels by turning it into a set.\nunique_labels = set(labels)\nunique_labels"
        }, 
        {
            "execution_count": null, 
            "cell_type": "code", 
            "metadata": {}, 
            "outputs": [], 
            "source": "# Create colors for the clusters.\ncolors = plt.cm.Spectral(np.linspace(0, 1, len(unique_labels)))"
        }, 
        {
            "execution_count": null, 
            "cell_type": "code", 
            "metadata": {}, 
            "outputs": [], 
            "source": "# Plot the points with colors\nfor k, col in zip(unique_labels, colors):\n    if k == -1:\n        # Black used for noise.\n        col = 'k'\n\n    class_member_mask = (labels == k)\n\n    # Plot the datapoints that are clustered\n    xy = X[class_member_mask & core_samples_mask]\n    plt.scatter(xy[:, 0], xy[:, 1],s=50, c=[col], marker=u'o', alpha=0.5)\n\n    # Plot the outliers\n    xy = X[class_member_mask & ~core_samples_mask]\n    plt.scatter(xy[:, 0], xy[:, 1],s=50, c=[col], marker=u'o', alpha=0.5)"
        }, 
        {
            "execution_count": null, 
            "cell_type": "code", 
            "metadata": {}, 
            "outputs": [], 
            "source": "from sklearn.cluster import KMeans \nk = 3\nk_means3 = KMeans(init = \"k-means++\", n_clusters = k, n_init = 12)\nk_means3.fit(X)\nfig = plt.figure(figsize=(6, 4))\nax = fig.add_subplot(1, 1, 1)\nfor k, col in zip(range(k), colors):\n    my_members = (k_means3.labels_ == k)\n    plt.scatter(X[my_members, 0], X[my_members, 1],  c=col, marker=u'o', alpha=0.5)\nplt.show()"
        }, 
        {
            "execution_count": null, 
            "cell_type": "code", 
            "metadata": {}, 
            "outputs": [], 
            "source": "!wget -O weather-stations20140101-20141231.csv https://s3-api.us-geo.objectstorage.softlayer.net/cf-courses-data/CognitiveClass/ML0101ENv3/labs/weather-stations20140101-20141231.csv"
        }, 
        {
            "execution_count": null, 
            "cell_type": "code", 
            "metadata": {}, 
            "outputs": [], 
            "source": "import csv\nimport pandas as pd\nimport numpy as np\n\nfilename='weather-stations20140101-20141231.csv'\n\n#Read csv\npdf = pd.read_csv(filename)\npdf.head(5)"
        }, 
        {
            "execution_count": null, 
            "cell_type": "code", 
            "metadata": {}, 
            "outputs": [], 
            "source": "pdf = pdf[pd.notnull(pdf[\"Tm\"])]\npdf = pdf.reset_index(drop=True)\npdf.head(5)"
        }, 
        {
            "execution_count": null, 
            "cell_type": "code", 
            "metadata": {}, 
            "outputs": [], 
            "source": "#%env PROJ_LIB = /home/jupyterlab/conda/lib/python3.6/site-packages/pyproj/data/\nimport pyproj as proj_lib"
        }, 
        {
            "execution_count": null, 
            "cell_type": "code", 
            "metadata": {}, 
            "outputs": [], 
            "source": "from mpl_toolkits.basemap import Basemap\nimport matplotlib.pyplot as plt\nfrom pylab import rcParams\n%matplotlib inline\nrcParams['figure.figsize'] = (14,10)\n\nllon=-140\nulon=-50\nllat=40\nulat=65\n\npdf = pdf[(pdf['Long'] > llon) & (pdf['Long'] < ulon) & (pdf['Lat'] > llat) &(pdf['Lat'] < ulat)]\n\nmy_map = Basemap(projection='merc',\n            resolution = 'l', area_thresh = 1000.0,\n            llcrnrlon=llon, llcrnrlat=llat, #min longitude (llcrnrlon) and latitude (llcrnrlat)\n            urcrnrlon=ulon, urcrnrlat=ulat) #max longitude (urcrnrlon) and latitude (urcrnrlat)\n\nmy_map.drawcoastlines()\nmy_map.drawcountries()\n# my_map.drawmapboundary()\nmy_map.fillcontinents(color = 'white', alpha = 0.3)\nmy_map.shadedrelief()\n\n# To collect data based on stations        \n\nxs,ys = my_map(np.asarray(pdf.Long), np.asarray(pdf.Lat))\npdf['xm']= xs.tolist()\npdf['ym'] =ys.tolist()\n\n#Visualization1\nfor index,row in pdf.iterrows():\n#   x,y = my_map(row.Long, row.Lat)\n   my_map.plot(row.xm, row.ym,markerfacecolor =([1,0,0]),  marker='o', markersize= 5, alpha = 0.75)\n#plt.text(x,y,stn)\nplt.show()\n\n"
        }, 
        {
            "execution_count": null, 
            "cell_type": "code", 
            "metadata": {}, 
            "outputs": [], 
            "source": "from sklearn.cluster import DBSCAN\nimport sklearn.utils\nfrom sklearn.preprocessing import StandardScaler\nsklearn.utils.check_random_state(1000)\nClus_dataSet = pdf[['xm','ym']]\nClus_dataSet = np.nan_to_num(Clus_dataSet)\nClus_dataSet = StandardScaler().fit_transform(Clus_dataSet)\n\n# Compute DBSCAN\ndb = DBSCAN(eps=0.15, min_samples=10).fit(Clus_dataSet)\ncore_samples_mask = np.zeros_like(db.labels_, dtype=bool)\ncore_samples_mask[db.core_sample_indices_] = True\nlabels = db.labels_\npdf[\"Clus_Db\"]=labels\n\nrealClusterNum=len(set(labels)) - (1 if -1 in labels else 0)\nclusterNum = len(set(labels)) \n\n\n# A sample of clusters\npdf[[\"Stn_Name\",\"Tx\",\"Tm\",\"Clus_Db\"]].head(5)"
        }, 
        {
            "execution_count": null, 
            "cell_type": "code", 
            "metadata": {}, 
            "outputs": [], 
            "source": "set(labels)"
        }, 
        {
            "execution_count": null, 
            "cell_type": "code", 
            "metadata": {}, 
            "outputs": [], 
            "source": "from mpl_toolkits.basemap import Basemap\nimport matplotlib.pyplot as plt\nfrom pylab import rcParams\n%matplotlib inline\nrcParams['figure.figsize'] = (14,10)\n\nmy_map = Basemap(projection='merc',\n            resolution = 'l', area_thresh = 1000.0,\n            llcrnrlon=llon, llcrnrlat=llat, #min longitude (llcrnrlon) and latitude (llcrnrlat)\n            urcrnrlon=ulon, urcrnrlat=ulat) #max longitude (urcrnrlon) and latitude (urcrnrlat)\n\nmy_map.drawcoastlines()\nmy_map.drawcountries()\n#my_map.drawmapboundary()\nmy_map.fillcontinents(color = 'white', alpha = 0.3)\nmy_map.shadedrelief()\n\n# To create a color map\ncolors = plt.get_cmap('jet')(np.linspace(0.0, 1.0, clusterNum))\n\n\n\n#Visualization1\nfor clust_number in set(labels):\n    c=(([0.4,0.4,0.4]) if clust_number == -1 else colors[np.int(clust_number)])\n    clust_set = pdf[pdf.Clus_Db == clust_number]                    \n    my_map.scatter(clust_set.xm, clust_set.ym, color =c,  marker='o', s= 20, alpha = 0.85)\n    if clust_number != -1:\n        cenx=np.mean(clust_set.xm) \n        ceny=np.mean(clust_set.ym) \n        plt.text(cenx,ceny,str(clust_number), fontsize=25, color='red',)\n        print (\"Cluster \"+str(clust_number)+', Avg Temp: '+ str(np.mean(clust_set.Tm)))"
        }, 
        {
            "execution_count": null, 
            "cell_type": "code", 
            "metadata": {}, 
            "outputs": [], 
            "source": "from sklearn.cluster import DBSCAN\nimport sklearn.utils\nfrom sklearn.preprocessing import StandardScaler\nsklearn.utils.check_random_state(1000)\nClus_dataSet = pdf[['xm','ym','Tx','Tm','Tn']]\nClus_dataSet = np.nan_to_num(Clus_dataSet)\nClus_dataSet = StandardScaler().fit_transform(Clus_dataSet)\n\n# Compute DBSCAN\ndb = DBSCAN(eps=0.3, min_samples=10).fit(Clus_dataSet)\ncore_samples_mask = np.zeros_like(db.labels_, dtype=bool)\ncore_samples_mask[db.core_sample_indices_] = True\nlabels = db.labels_\npdf[\"Clus_Db\"]=labels\n\nrealClusterNum=len(set(labels)) - (1 if -1 in labels else 0)\nclusterNum = len(set(labels)) \n\n\n# A sample of clusters\npdf[[\"Stn_Name\",\"Tx\",\"Tm\",\"Clus_Db\"]].head(5)"
        }, 
        {
            "execution_count": null, 
            "cell_type": "code", 
            "metadata": {}, 
            "outputs": [], 
            "source": "from mpl_toolkits.basemap import Basemap\nimport matplotlib.pyplot as plt\nfrom pylab import rcParams\n%matplotlib inline\nrcParams['figure.figsize'] = (14,10)\n\nmy_map = Basemap(projection='merc',\n            resolution = 'l', area_thresh = 1000.0,\n            llcrnrlon=llon, llcrnrlat=llat, #min longitude (llcrnrlon) and latitude (llcrnrlat)\n            urcrnrlon=ulon, urcrnrlat=ulat) #max longitude (urcrnrlon) and latitude (urcrnrlat)\n\nmy_map.drawcoastlines()\nmy_map.drawcountries()\n#my_map.drawmapboundary()\nmy_map.fillcontinents(color = 'white', alpha = 0.3)\nmy_map.shadedrelief()\n\n# To create a color map\ncolors = plt.get_cmap('jet')(np.linspace(0.0, 1.0, clusterNum))\n\n\n\n#Visualization1\nfor clust_number in set(labels):\n    c=(([0.4,0.4,0.4]) if clust_number == -1 else colors[np.int(clust_number)])\n    clust_set = pdf[pdf.Clus_Db == clust_number]                    \n    my_map.scatter(clust_set.xm, clust_set.ym, color =c,  marker='o', s= 20, alpha = 0.85)\n    if clust_number != -1:\n        cenx=np.mean(clust_set.xm) \n        ceny=np.mean(clust_set.ym) \n        plt.text(cenx,ceny,str(clust_number), fontsize=25, color='red',)\n        print (\"Cluster \"+str(clust_number)+', Avg Temp: '+ str(np.mean(clust_set.Tm)))"
        }
    ], 
    "metadata": {
        "kernelspec": {
            "display_name": "Python 3.6", 
            "name": "python3", 
            "language": "python"
        }, 
        "language_info": {
            "mimetype": "text/x-python", 
            "nbconvert_exporter": "python", 
            "version": "3.6.8", 
            "name": "python", 
            "file_extension": ".py", 
            "pygments_lexer": "ipython3", 
            "codemirror_mode": {
                "version": 3, 
                "name": "ipython"
            }
        }
    }, 
    "nbformat": 4
}